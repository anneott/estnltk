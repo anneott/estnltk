{
 "cells": [
  {
   "cell_type": "markdown",
   "metadata": {},
   "source": [
    "# <span style=\"color:blue\"> B. Specific details for programmers: how it works</span>"
   ]
  },
  {
   "cell_type": "markdown",
   "metadata": {},
   "source": [
    "## <span style=\"color:purple\">Syllabification</span>\n",
    "\n",
    "EstNLTK's Vabamorf tool provides functions for word syllabification.\n",
    "The function `syllabify_word()` accepts the following parameters:\n",
    "\n",
    "  1. surface word form (string);\n",
    "  2. (optional) boolean `as_dict` if results are formatted as a dict (default) or as a tuple;\n",
    "  3. (optional) boolean `split_compounds` if compound words will be heuristically split before syllabification;\n",
    "  \n",
    "For example, let's syllabify word _\"kiireloomuline\"_ :"
   ]
  },
  {
   "cell_type": "code",
   "execution_count": 1,
   "metadata": {},
   "outputs": [
    {
     "data": {
      "text/plain": [
       "[{'syllable': 'kii', 'quantity': 2, 'accent': 1},\n",
       " {'syllable': 're', 'quantity': 1, 'accent': 0},\n",
       " {'syllable': 'loo', 'quantity': 2, 'accent': 1},\n",
       " {'syllable': 'mu', 'quantity': 1, 'accent': 0},\n",
       " {'syllable': 'li', 'quantity': 1, 'accent': 0},\n",
       " {'syllable': 'ne', 'quantity': 1, 'accent': 0}]"
      ]
     },
     "execution_count": 1,
     "metadata": {},
     "output_type": "execute_result"
    }
   ],
   "source": [
    "from estnltk.vabamorf.morf import syllabify_word\n",
    "syllabify_word('kiireloomuline')"
   ]
  },
  {
   "cell_type": "markdown",
   "metadata": {},
   "source": [
    "The function returns a list of syllables, and the following information about each syllable:\n",
    "   * 'syllable' -- string corresponding to the syllable;\n",
    "   * 'quantity' -- degree of quantity: 1, 2 or 3 ( _'välde'_ )\n",
    "   * 'accent' -- 0 or 1 (if the syllable is accented or not) ( _'rõhuline silp'_ )\n"
   ]
  },
  {
   "cell_type": "markdown",
   "metadata": {},
   "source": [
    "If `as_dict==False`, the function returns tuples `(syllable, quantity, accent)`:"
   ]
  },
  {
   "cell_type": "code",
   "execution_count": 2,
   "metadata": {},
   "outputs": [
    {
     "data": {
      "text/plain": [
       "[('kii', 2, 1),\n",
       " ('re', 1, 0),\n",
       " ('loo', 2, 1),\n",
       " ('mu', 1, 0),\n",
       " ('li', 1, 0),\n",
       " ('ne', 1, 0)]"
      ]
     },
     "execution_count": 2,
     "metadata": {},
     "output_type": "execute_result"
    }
   ],
   "source": [
    "syllabify_word('kiireloomuline', as_dict=False)"
   ]
  },
  {
   "cell_type": "markdown",
   "metadata": {},
   "source": [
    "#### Syllabification of compound words ( `split_compounds` )\n",
    "\n",
    "Although the word _'kiireloomuline'_ was syllabified correctly in the previous example, the default settings of `syllabify_word()` do not guarantee the correct syllabification of compound words.\n",
    "However, if you switch on `split_compounds`, then word boundaries inside a compound word will be determined heuristically, and each subword of a compound word will be syllabified separately.\n",
    "Examples:"
   ]
  },
  {
   "cell_type": "code",
   "execution_count": 3,
   "metadata": {},
   "outputs": [
    {
     "data": {
      "text/plain": [
       "[{'syllable': 'va', 'quantity': 1, 'accent': 1},\n",
       " {'syllable': 'na', 'quantity': 1, 'accent': 0},\n",
       " {'syllable': 'e', 'quantity': 1, 'accent': 1},\n",
       " {'syllable': 'ma', 'quantity': 1, 'accent': 0}]"
      ]
     },
     "execution_count": 3,
     "metadata": {},
     "output_type": "execute_result"
    }
   ],
   "source": [
    "syllabify_word('vanaema',split_compounds=True)"
   ]
  },
  {
   "cell_type": "code",
   "execution_count": 4,
   "metadata": {},
   "outputs": [
    {
     "data": {
      "text/plain": [
       "[{'syllable': 'las', 'quantity': 2, 'accent': 1},\n",
       " {'syllable': 'te', 'quantity': 1, 'accent': 0},\n",
       " {'syllable': 'ai', 'quantity': 2, 'accent': 1},\n",
       " {'syllable': 'a', 'quantity': 1, 'accent': 0},\n",
       " {'syllable': 'lap', 'quantity': 2, 'accent': 1},\n",
       " {'syllable': 'se', 'quantity': 1, 'accent': 0},\n",
       " {'syllable': 'le', 'quantity': 1, 'accent': 0},\n",
       " {'syllable': 'gi', 'quantity': 1, 'accent': 0}]"
      ]
     },
     "execution_count": 4,
     "metadata": {},
     "output_type": "execute_result"
    }
   ],
   "source": [
    "syllabify_word('lasteaialapselegi',split_compounds=True)"
   ]
  },
  {
   "cell_type": "markdown",
   "metadata": {},
   "source": [
    "<div class=\"alert alert-block alert-warning\">\n",
    "<h4><i>Limitations of syllabifying compound words</i></h4>\n",
    "<br>\n",
    "If <code>split_compounds==True</code>, then function <code>syllabify_word()</code> applies morphological analysis on the input word, and uses information from word lemmas to determine subword boundaries inside a compound word.\n",
    "This works reasonably well if: a) lemma of the word can be unambiguously determined, b) the lemma and the input word match by their prefix -- to an extent that covers all the subwords.\n",
    "If the conditions a) and b) are met, then splitting into compound words succeeds and this also improves the quality of syllabification. \n",
    "Otherwise, the input word will be syllabified as it is (without any knowledge of compound word boundaries), and this can also lessen the quality of syllabification. \n",
    "</div>"
   ]
  }
 ],
 "metadata": {
  "anaconda-cloud": {},
  "kernelspec": {
   "display_name": "Python 3",
   "language": "python",
   "name": "python3"
  },
  "language_info": {
   "codemirror_mode": {
    "name": "ipython",
    "version": 3
   },
   "file_extension": ".py",
   "mimetype": "text/x-python",
   "name": "python",
   "nbconvert_exporter": "python",
   "pygments_lexer": "ipython3",
   "version": "3.6.9"
  }
 },
 "nbformat": 4,
 "nbformat_minor": 2
}
