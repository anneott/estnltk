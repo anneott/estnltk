{
 "cells": [
  {
   "cell_type": "markdown",
   "metadata": {},
   "source": [
    "## A brief introduction to Text class, layers and tools\n",
    "\n",
    "In this tutorial, we give a bird's-eye overview on `Text` class, layers and tools in EstNLTK 1.6."
   ]
  },
  {
   "cell_type": "markdown",
   "metadata": {},
   "source": [
    "### Text class\n",
    "\n",
    "Text class is the central component of the library. It stores raw text data, related metadata and layers of linguistic annotation. It provides interfaces for calling automatic annotators, and also manages dependencies between the annotators."
   ]
  },
  {
   "cell_type": "code",
   "execution_count": 1,
   "metadata": {},
   "outputs": [
    {
     "data": {
      "text/html": [
       "<table border=\"1\" class=\"dataframe\">\n",
       "  <thead>\n",
       "    <tr style=\"text-align: right;\">\n",
       "      <th>text</th>\n",
       "    </tr>\n",
       "  </thead>\n",
       "  <tbody>\n",
       "    <tr>\n",
       "      <td><div align = \"left\">Kui Arno isaga koolimajja jõudis, olid tunnid juba alanud. </br>Kooliõpetaja kutsus mõlemad oma tuppa, kõneles nendega natuke aega, </br>käskis Arnol olla hoolas ja korralik ja seadis ta siis pinki ühe pikkade juustega poisi kõrvale istuma.</div></td>\n",
       "    </tr>\n",
       "  </tbody>\n",
       "</table>"
      ],
      "text/plain": [
       "Text(text='Kui Arno isaga koolimajja jõudis, olid tunnid juba alanud. \\nKooliõpetaja kutsus mõlemad oma tuppa, kõneles nendega natuke aega, \\nkäskis Arnol olla hoolas ja korralik ja seadis ta siis pinki ühe pikkade juustega poisi kõrvale istuma.')"
      ]
     },
     "execution_count": 1,
     "metadata": {},
     "output_type": "execute_result"
    }
   ],
   "source": [
    "# Example: creating a Text based on raw text data\n",
    "from estnltk.text import Text\n",
    "\n",
    "t = Text('''Kui Arno isaga koolimajja jõudis, olid tunnid juba alanud. \n",
    "Kooliõpetaja kutsus mõlemad oma tuppa, kõneles nendega natuke aega, \n",
    "käskis Arnol olla hoolas ja korralik ja seadis ta siis pinki ühe pikkade juustega poisi kõrvale istuma.''')\n",
    "t"
   ]
  },
  {
   "cell_type": "markdown",
   "metadata": {},
   "source": [
    "Once a Text has been created, it can be analysed automatically:"
   ]
  },
  {
   "cell_type": "code",
   "execution_count": 2,
   "metadata": {},
   "outputs": [
    {
     "data": {
      "text/html": [
       "<table border=\"1\" class=\"dataframe\">\n",
       "  <thead>\n",
       "    <tr style=\"text-align: right;\">\n",
       "      <th>text</th>\n",
       "    </tr>\n",
       "  </thead>\n",
       "  <tbody>\n",
       "    <tr>\n",
       "      <td><div align = \"left\">Kui Arno isaga koolimajja jõudis, olid tunnid juba alanud. </br>Kooliõpetaja kutsus mõlemad oma tuppa, kõneles nendega natuke aega, </br>käskis Arnol olla hoolas ja korralik ja seadis ta siis pinki ühe pikkade juustega poisi kõrvale istuma.</div></td>\n",
       "    </tr>\n",
       "  </tbody>\n",
       "</table>\n",
       "<table border=\"1\" class=\"dataframe\">\n",
       "  <thead>\n",
       "    <tr style=\"text-align: right;\">\n",
       "      <th>layer name</th>\n",
       "      <th>attributes</th>\n",
       "      <th>parent</th>\n",
       "      <th>enveloping</th>\n",
       "      <th>ambiguous</th>\n",
       "      <th>span count</th>\n",
       "    </tr>\n",
       "  </thead>\n",
       "  <tbody>\n",
       "    <tr>\n",
       "      <td>paragraphs</td>\n",
       "      <td></td>\n",
       "      <td>None</td>\n",
       "      <td>sentences</td>\n",
       "      <td>False</td>\n",
       "      <td>1</td>\n",
       "    </tr>\n",
       "    <tr>\n",
       "      <td>sentences</td>\n",
       "      <td></td>\n",
       "      <td>None</td>\n",
       "      <td>words</td>\n",
       "      <td>False</td>\n",
       "      <td>2</td>\n",
       "    </tr>\n",
       "    <tr>\n",
       "      <td>words</td>\n",
       "      <td>normalized_form</td>\n",
       "      <td>None</td>\n",
       "      <td>None</td>\n",
       "      <td>True</td>\n",
       "      <td>40</td>\n",
       "    </tr>\n",
       "  </tbody>\n",
       "</table>"
      ],
      "text/plain": [
       "Text(text='Kui Arno isaga koolimajja jõudis, olid tunnid juba alanud. \\nKooliõpetaja kutsus mõlemad oma tuppa, kõneles nendega natuke aega, \\nkäskis Arnol olla hoolas ja korralik ja seadis ta siis pinki ühe pikkade juustega poisi kõrvale istuma.')"
      ]
     },
     "execution_count": 2,
     "metadata": {},
     "output_type": "execute_result"
    }
   ],
   "source": [
    "# Example: add segmentation (word, sentence and paragraph tokenization) annotations\n",
    "t.analyse('segmentation')\n",
    "t"
   ]
  },
  {
   "cell_type": "markdown",
   "metadata": {},
   "source": [
    "Alternatively, individual layers can be automatically added using the method `tag_layer`:"
   ]
  },
  {
   "cell_type": "code",
   "execution_count": 3,
   "metadata": {},
   "outputs": [
    {
     "data": {
      "text/html": [
       "<table border=\"1\" class=\"dataframe\">\n",
       "  <thead>\n",
       "    <tr style=\"text-align: right;\">\n",
       "      <th>text</th>\n",
       "    </tr>\n",
       "  </thead>\n",
       "  <tbody>\n",
       "    <tr>\n",
       "      <td><div align = \"left\">Kui Arno isaga koolimajja jõudis, olid tunnid juba alanud. </br>Kooliõpetaja kutsus mõlemad oma tuppa, kõneles nendega natuke aega, </br>käskis Arnol olla hoolas ja korralik ja seadis ta siis pinki ühe pikkade juustega poisi kõrvale istuma.</div></td>\n",
       "    </tr>\n",
       "  </tbody>\n",
       "</table>\n",
       "<table border=\"1\" class=\"dataframe\">\n",
       "  <thead>\n",
       "    <tr style=\"text-align: right;\">\n",
       "      <th>layer name</th>\n",
       "      <th>attributes</th>\n",
       "      <th>parent</th>\n",
       "      <th>enveloping</th>\n",
       "      <th>ambiguous</th>\n",
       "      <th>span count</th>\n",
       "    </tr>\n",
       "  </thead>\n",
       "  <tbody>\n",
       "    <tr>\n",
       "      <td>paragraphs</td>\n",
       "      <td></td>\n",
       "      <td>None</td>\n",
       "      <td>sentences</td>\n",
       "      <td>False</td>\n",
       "      <td>1</td>\n",
       "    </tr>\n",
       "    <tr>\n",
       "      <td>sentences</td>\n",
       "      <td></td>\n",
       "      <td>None</td>\n",
       "      <td>words</td>\n",
       "      <td>False</td>\n",
       "      <td>2</td>\n",
       "    </tr>\n",
       "    <tr>\n",
       "      <td>words</td>\n",
       "      <td>normalized_form</td>\n",
       "      <td>None</td>\n",
       "      <td>None</td>\n",
       "      <td>True</td>\n",
       "      <td>40</td>\n",
       "    </tr>\n",
       "  </tbody>\n",
       "</table>"
      ],
      "text/plain": [
       "Text(text='Kui Arno isaga koolimajja jõudis, olid tunnid juba alanud. \\nKooliõpetaja kutsus mõlemad oma tuppa, kõneles nendega natuke aega, \\nkäskis Arnol olla hoolas ja korralik ja seadis ta siis pinki ühe pikkade juustega poisi kõrvale istuma.')"
      ]
     },
     "execution_count": 3,
     "metadata": {},
     "output_type": "execute_result"
    }
   ],
   "source": [
    "t.tag_layer(['words', 'sentences', 'paragraphs'])\n",
    "t"
   ]
  },
  {
   "cell_type": "markdown",
   "metadata": {},
   "source": [
    "If there is metadata available about the Text, it can be added using the special attribute called _meta_:"
   ]
  },
  {
   "cell_type": "code",
   "execution_count": 4,
   "metadata": {},
   "outputs": [
    {
     "data": {
      "text/html": [
       "<table border=\"1\" class=\"dataframe\">\n",
       "  <thead>\n",
       "    <tr style=\"text-align: right;\">\n",
       "      <th>text</th>\n",
       "    </tr>\n",
       "  </thead>\n",
       "  <tbody>\n",
       "    <tr>\n",
       "      <td><div align = \"left\">Kui Arno isaga koolimajja jõudis, olid tunnid juba alanud. </br>Kooliõpetaja kutsus mõlemad oma tuppa, kõneles nendega natuke aega, </br>käskis Arnol olla hoolas ja korralik ja seadis ta siis pinki ühe pikkade juustega poisi kõrvale istuma.</div></td>\n",
       "    </tr>\n",
       "  </tbody>\n",
       "</table>\n",
       "<h4>Metadata</h4>\n",
       "<table border=\"1\" class=\"dataframe\">\n",
       "  <tbody>\n",
       "    <tr>\n",
       "      <td>author</td>\n",
       "      <td>O. Luts</td>\n",
       "    </tr>\n",
       "    <tr>\n",
       "      <td>source</td>\n",
       "      <td>\"Kevade\"</td>\n",
       "    </tr>\n",
       "  </tbody>\n",
       "</table>\n",
       "<table border=\"1\" class=\"dataframe\">\n",
       "  <thead>\n",
       "    <tr style=\"text-align: right;\">\n",
       "      <th>layer name</th>\n",
       "      <th>attributes</th>\n",
       "      <th>parent</th>\n",
       "      <th>enveloping</th>\n",
       "      <th>ambiguous</th>\n",
       "      <th>span count</th>\n",
       "    </tr>\n",
       "  </thead>\n",
       "  <tbody>\n",
       "    <tr>\n",
       "      <td>paragraphs</td>\n",
       "      <td></td>\n",
       "      <td>None</td>\n",
       "      <td>sentences</td>\n",
       "      <td>False</td>\n",
       "      <td>1</td>\n",
       "    </tr>\n",
       "    <tr>\n",
       "      <td>sentences</td>\n",
       "      <td></td>\n",
       "      <td>None</td>\n",
       "      <td>words</td>\n",
       "      <td>False</td>\n",
       "      <td>2</td>\n",
       "    </tr>\n",
       "    <tr>\n",
       "      <td>words</td>\n",
       "      <td>normalized_form</td>\n",
       "      <td>None</td>\n",
       "      <td>None</td>\n",
       "      <td>True</td>\n",
       "      <td>40</td>\n",
       "    </tr>\n",
       "  </tbody>\n",
       "</table>"
      ],
      "text/plain": [
       "Text(text='Kui Arno isaga koolimajja jõudis, olid tunnid juba alanud. \\nKooliõpetaja kutsus mõlemad oma tuppa, kõneles nendega natuke aega, \\nkäskis Arnol olla hoolas ja korralik ja seadis ta siis pinki ühe pikkade juustega poisi kõrvale istuma.')"
      ]
     },
     "execution_count": 4,
     "metadata": {},
     "output_type": "execute_result"
    }
   ],
   "source": [
    "# Example: add metadata about the text\n",
    "t.meta['author'] = 'O. Luts'\n",
    "t.meta['source'] = '\"Kevade\"'\n",
    "t"
   ]
  },
  {
   "cell_type": "markdown",
   "metadata": {},
   "source": [
    "Other attributes provide an access to raw text and annotations:"
   ]
  },
  {
   "cell_type": "code",
   "execution_count": 5,
   "metadata": {},
   "outputs": [
    {
     "data": {
      "text/plain": [
       "'Kui Arno isaga koolimajja jõudis, olid tunnid juba alanud. \\nKooliõpetaja kutsus mõlemad oma tuppa, kõneles nendega natuke aega, \\nkäskis Arnol olla hoolas ja korralik ja seadis ta siis pinki ühe pikkade juustega poisi kõrvale istuma.'"
      ]
     },
     "execution_count": 5,
     "metadata": {},
     "output_type": "execute_result"
    }
   ],
   "source": [
    "# Raw text (string)\n",
    "t.text"
   ]
  },
  {
   "cell_type": "code",
   "execution_count": 6,
   "metadata": {},
   "outputs": [
    {
     "data": {
      "text/plain": [
       "['Kui',\n",
       " 'Arno',\n",
       " 'isaga',\n",
       " 'koolimajja',\n",
       " 'jõudis',\n",
       " ',',\n",
       " 'olid',\n",
       " 'tunnid',\n",
       " 'juba',\n",
       " 'alanud',\n",
       " '.',\n",
       " 'Kooliõpetaja',\n",
       " 'kutsus',\n",
       " 'mõlemad',\n",
       " 'oma',\n",
       " 'tuppa',\n",
       " ',',\n",
       " 'kõneles',\n",
       " 'nendega',\n",
       " 'natuke',\n",
       " 'aega',\n",
       " ',',\n",
       " 'käskis',\n",
       " 'Arnol',\n",
       " 'olla',\n",
       " 'hoolas',\n",
       " 'ja',\n",
       " 'korralik',\n",
       " 'ja',\n",
       " 'seadis',\n",
       " 'ta',\n",
       " 'siis',\n",
       " 'pinki',\n",
       " 'ühe',\n",
       " 'pikkade',\n",
       " 'juustega',\n",
       " 'poisi',\n",
       " 'kõrvale',\n",
       " 'istuma',\n",
       " '.']"
      ]
     },
     "execution_count": 6,
     "metadata": {},
     "output_type": "execute_result"
    }
   ],
   "source": [
    "# Texts from layer 'words' (list of strings)\n",
    "t.words.text"
   ]
  },
  {
   "cell_type": "code",
   "execution_count": 7,
   "metadata": {},
   "outputs": [
    {
     "data": {
      "text/plain": [
       "['Kui',\n",
       " 'Arno',\n",
       " 'isaga',\n",
       " 'koolimajja',\n",
       " 'jõudis',\n",
       " ',',\n",
       " 'olid',\n",
       " 'tunnid',\n",
       " 'juba',\n",
       " 'alanud',\n",
       " '.',\n",
       " 'Kooliõpetaja',\n",
       " 'kutsus',\n",
       " 'mõlemad',\n",
       " 'oma',\n",
       " 'tuppa',\n",
       " ',',\n",
       " 'kõneles',\n",
       " 'nendega',\n",
       " 'natuke',\n",
       " 'aega',\n",
       " ',',\n",
       " 'käskis',\n",
       " 'Arnol',\n",
       " 'olla',\n",
       " 'hoolas',\n",
       " 'ja',\n",
       " 'korralik',\n",
       " 'ja',\n",
       " 'seadis',\n",
       " 'ta',\n",
       " 'siis',\n",
       " 'pinki',\n",
       " 'ühe',\n",
       " 'pikkade',\n",
       " 'juustega',\n",
       " 'poisi',\n",
       " 'kõrvale',\n",
       " 'istuma',\n",
       " '.']"
      ]
     },
     "execution_count": 7,
     "metadata": {},
     "output_type": "execute_result"
    }
   ],
   "source": [
    "# Texts from layer 'sentences' (list of lists of strings)\n",
    "t.sentences.text"
   ]
  },
  {
   "cell_type": "markdown",
   "metadata": {},
   "source": [
    "Note that the attribute `text` provides access to continuous snippets of texts. E.g. words are continuous sequences of letters/characters.\n",
    "\n",
    "Sentences are not continuous, as they are made of words and there are gaps (spaces) between words. Technically, sentences are not `Span`-s, but `SpanList`-s. So, if you want to access continuous texts corresponding to sentences, you should use the attribute `enclosing_text` (instead of the attribute `text`):"
   ]
  },
  {
   "cell_type": "code",
   "execution_count": 8,
   "metadata": {},
   "outputs": [
    {
     "data": {
      "text/plain": [
       "'Kui Arno isaga koolimajja jõudis, olid tunnid juba alanud.'"
      ]
     },
     "execution_count": 8,
     "metadata": {},
     "output_type": "execute_result"
    }
   ],
   "source": [
    "# Full text corresponding to the 1st element from layer 'sentences' (string)\n",
    "t.sentences[0].enclosing_text"
   ]
  },
  {
   "cell_type": "code",
   "execution_count": 9,
   "metadata": {},
   "outputs": [
    {
     "data": {
      "text/plain": [
       "['Kui Arno isaga koolimajja jõudis, olid tunnid juba alanud.',\n",
       " 'Kooliõpetaja kutsus mõlemad oma tuppa, kõneles nendega natuke aega, \\nkäskis Arnol olla hoolas ja korralik ja seadis ta siis pinki ühe pikkade juustega poisi kõrvale istuma.']"
      ]
     },
     "execution_count": 9,
     "metadata": {},
     "output_type": "execute_result"
    }
   ],
   "source": [
    "# Full texts of all sentences (list of strings)\n",
    "[s.enclosing_text for s in t.sentences]"
   ]
  },
  {
   "cell_type": "markdown",
   "metadata": {},
   "source": [
    "### Layer class\n",
    "\n",
    "Annotations are stored as Layers in the Text. In the following example, we will show how to create a new layer from the scratch, and how to access its elements. \n",
    "\n",
    "As we have already segmented the input text into words and sentences, we will now create a layer that builds upon existing annotations. More specifically, the new layer will add extra annotations to each word:"
   ]
  },
  {
   "cell_type": "code",
   "execution_count": 10,
   "metadata": {},
   "outputs": [
    {
     "data": {
      "text/html": [
       "<table border=\"1\" class=\"dataframe\">\n",
       "  <thead>\n",
       "    <tr style=\"text-align: right;\">\n",
       "      <th>text</th>\n",
       "    </tr>\n",
       "  </thead>\n",
       "  <tbody>\n",
       "    <tr>\n",
       "      <td><div align = \"left\">Kui Arno isaga koolimajja jõudis, olid tunnid juba alanud. </br>Kooliõpetaja kutsus mõlemad oma tuppa, kõneles nendega natuke aega, </br>käskis Arnol olla hoolas ja korralik ja seadis ta siis pinki ühe pikkade juustega poisi kõrvale istuma.</div></td>\n",
       "    </tr>\n",
       "  </tbody>\n",
       "</table>\n",
       "<h4>Metadata</h4>\n",
       "<table border=\"1\" class=\"dataframe\">\n",
       "  <tbody>\n",
       "    <tr>\n",
       "      <td>author</td>\n",
       "      <td>O. Luts</td>\n",
       "    </tr>\n",
       "    <tr>\n",
       "      <td>source</td>\n",
       "      <td>\"Kevade\"</td>\n",
       "    </tr>\n",
       "  </tbody>\n",
       "</table>\n",
       "<table border=\"1\" class=\"dataframe\">\n",
       "  <thead>\n",
       "    <tr style=\"text-align: right;\">\n",
       "      <th>layer name</th>\n",
       "      <th>attributes</th>\n",
       "      <th>parent</th>\n",
       "      <th>enveloping</th>\n",
       "      <th>ambiguous</th>\n",
       "      <th>span count</th>\n",
       "    </tr>\n",
       "  </thead>\n",
       "  <tbody>\n",
       "    <tr>\n",
       "      <td>paragraphs</td>\n",
       "      <td></td>\n",
       "      <td>None</td>\n",
       "      <td>sentences</td>\n",
       "      <td>False</td>\n",
       "      <td>1</td>\n",
       "    </tr>\n",
       "    <tr>\n",
       "      <td>sentences</td>\n",
       "      <td></td>\n",
       "      <td>None</td>\n",
       "      <td>words</td>\n",
       "      <td>False</td>\n",
       "      <td>2</td>\n",
       "    </tr>\n",
       "    <tr>\n",
       "      <td>words</td>\n",
       "      <td>normalized_form</td>\n",
       "      <td>None</td>\n",
       "      <td>None</td>\n",
       "      <td>True</td>\n",
       "      <td>40</td>\n",
       "    </tr>\n",
       "    <tr>\n",
       "      <td>uppercase</td>\n",
       "      <td>upper, reverse</td>\n",
       "      <td>words</td>\n",
       "      <td>None</td>\n",
       "      <td>False</td>\n",
       "      <td>0</td>\n",
       "    </tr>\n",
       "  </tbody>\n",
       "</table>"
      ],
      "text/plain": [
       "Text(text='Kui Arno isaga koolimajja jõudis, olid tunnid juba alanud. \\nKooliõpetaja kutsus mõlemad oma tuppa, kõneles nendega natuke aega, \\nkäskis Arnol olla hoolas ja korralik ja seadis ta siis pinki ühe pikkade juustega poisi kõrvale istuma.')"
      ]
     },
     "execution_count": 10,
     "metadata": {},
     "output_type": "execute_result"
    }
   ],
   "source": [
    "# Example: creating a new layer\n",
    "from estnltk.text import Layer\n",
    "\n",
    "dep = Layer(name='uppercase', # name of the layer\n",
    "            parent='words',   # name of the parent layer (i.e. each element of this layer should have a parent in 'words' layer)\n",
    "            attributes=['upper', 'reverse'] # list of attributes that the new layer will have\n",
    "            )\n",
    "t.add_layer(dep) # attach the layer to the Text\n",
    "# NB! Currently, you cannot attach a layer with the same name twice (unless you delete the old layer).\n",
    "t"
   ]
  },
  {
   "cell_type": "markdown",
   "metadata": {},
   "source": [
    "The new layer is empty. However, we can iterate over the words (the parent layer), and for each of the word, add an annotation to the new layer:"
   ]
  },
  {
   "cell_type": "code",
   "execution_count": 11,
   "metadata": {},
   "outputs": [
    {
     "data": {
      "text/html": [
       "<h4>Layer</h4>\n",
       "\n",
       "\n",
       "<table border=\"1\" class=\"dataframe\">\n",
       "  <thead>\n",
       "    <tr style=\"text-align: right;\">\n",
       "      <th>layer name</th>\n",
       "      <th>attributes</th>\n",
       "      <th>parent</th>\n",
       "      <th>enveloping</th>\n",
       "      <th>ambiguous</th>\n",
       "      <th>span count</th>\n",
       "    </tr>\n",
       "  </thead>\n",
       "  <tbody>\n",
       "    <tr>\n",
       "      <td>uppercase</td>\n",
       "      <td>upper, reverse</td>\n",
       "      <td>words</td>\n",
       "      <td>None</td>\n",
       "      <td>False</td>\n",
       "      <td>40</td>\n",
       "    </tr>\n",
       "  </tbody>\n",
       "</table>\n",
       "<table border=\"1\" class=\"dataframe\">\n",
       "  <thead>\n",
       "    <tr style=\"text-align: right;\">\n",
       "      <th>text</th>\n",
       "      <th>upper</th>\n",
       "      <th>reverse</th>\n",
       "    </tr>\n",
       "  </thead>\n",
       "  <tbody>\n",
       "    <tr>\n",
       "      <td>Kui</td>\n",
       "      <td>KUI</td>\n",
       "      <td>IUK</td>\n",
       "    </tr>\n",
       "    <tr>\n",
       "      <td>Arno</td>\n",
       "      <td>ARNO</td>\n",
       "      <td>ONRA</td>\n",
       "    </tr>\n",
       "    <tr>\n",
       "      <td>isaga</td>\n",
       "      <td>ISAGA</td>\n",
       "      <td>AGASI</td>\n",
       "    </tr>\n",
       "    <tr>\n",
       "      <td>koolimajja</td>\n",
       "      <td>KOOLIMAJJA</td>\n",
       "      <td>AJJAMILOOK</td>\n",
       "    </tr>\n",
       "    <tr>\n",
       "      <td>jõudis</td>\n",
       "      <td>JÕUDIS</td>\n",
       "      <td>SIDUÕJ</td>\n",
       "    </tr>\n",
       "    <tr>\n",
       "      <td>,</td>\n",
       "      <td>,</td>\n",
       "      <td>,</td>\n",
       "    </tr>\n",
       "    <tr>\n",
       "      <td>olid</td>\n",
       "      <td>OLID</td>\n",
       "      <td>DILO</td>\n",
       "    </tr>\n",
       "    <tr>\n",
       "      <td>tunnid</td>\n",
       "      <td>TUNNID</td>\n",
       "      <td>DINNUT</td>\n",
       "    </tr>\n",
       "    <tr>\n",
       "      <td>juba</td>\n",
       "      <td>JUBA</td>\n",
       "      <td>ABUJ</td>\n",
       "    </tr>\n",
       "    <tr>\n",
       "      <td>alanud</td>\n",
       "      <td>ALANUD</td>\n",
       "      <td>DUNALA</td>\n",
       "    </tr>\n",
       "    <tr>\n",
       "      <td>.</td>\n",
       "      <td>.</td>\n",
       "      <td>.</td>\n",
       "    </tr>\n",
       "    <tr>\n",
       "      <td>Kooliõpetaja</td>\n",
       "      <td>KOOLIÕPETAJA</td>\n",
       "      <td>AJATEPÕILOOK</td>\n",
       "    </tr>\n",
       "    <tr>\n",
       "      <td>kutsus</td>\n",
       "      <td>KUTSUS</td>\n",
       "      <td>SUSTUK</td>\n",
       "    </tr>\n",
       "    <tr>\n",
       "      <td>mõlemad</td>\n",
       "      <td>MÕLEMAD</td>\n",
       "      <td>DAMELÕM</td>\n",
       "    </tr>\n",
       "    <tr>\n",
       "      <td>oma</td>\n",
       "      <td>OMA</td>\n",
       "      <td>AMO</td>\n",
       "    </tr>\n",
       "    <tr>\n",
       "      <td>tuppa</td>\n",
       "      <td>TUPPA</td>\n",
       "      <td>APPUT</td>\n",
       "    </tr>\n",
       "    <tr>\n",
       "      <td>,</td>\n",
       "      <td>,</td>\n",
       "      <td>,</td>\n",
       "    </tr>\n",
       "    <tr>\n",
       "      <td>kõneles</td>\n",
       "      <td>KÕNELES</td>\n",
       "      <td>SELENÕK</td>\n",
       "    </tr>\n",
       "    <tr>\n",
       "      <td>nendega</td>\n",
       "      <td>NENDEGA</td>\n",
       "      <td>AGEDNEN</td>\n",
       "    </tr>\n",
       "    <tr>\n",
       "      <td>natuke</td>\n",
       "      <td>NATUKE</td>\n",
       "      <td>EKUTAN</td>\n",
       "    </tr>\n",
       "    <tr>\n",
       "      <td>aega</td>\n",
       "      <td>AEGA</td>\n",
       "      <td>AGEA</td>\n",
       "    </tr>\n",
       "    <tr>\n",
       "      <td>,</td>\n",
       "      <td>,</td>\n",
       "      <td>,</td>\n",
       "    </tr>\n",
       "    <tr>\n",
       "      <td>käskis</td>\n",
       "      <td>KÄSKIS</td>\n",
       "      <td>SIKSÄK</td>\n",
       "    </tr>\n",
       "    <tr>\n",
       "      <td>Arnol</td>\n",
       "      <td>ARNOL</td>\n",
       "      <td>LONRA</td>\n",
       "    </tr>\n",
       "    <tr>\n",
       "      <td>olla</td>\n",
       "      <td>OLLA</td>\n",
       "      <td>ALLO</td>\n",
       "    </tr>\n",
       "    <tr>\n",
       "      <td>hoolas</td>\n",
       "      <td>HOOLAS</td>\n",
       "      <td>SALOOH</td>\n",
       "    </tr>\n",
       "    <tr>\n",
       "      <td>ja</td>\n",
       "      <td>JA</td>\n",
       "      <td>AJ</td>\n",
       "    </tr>\n",
       "    <tr>\n",
       "      <td>korralik</td>\n",
       "      <td>KORRALIK</td>\n",
       "      <td>KILARROK</td>\n",
       "    </tr>\n",
       "    <tr>\n",
       "      <td>ja</td>\n",
       "      <td>JA</td>\n",
       "      <td>AJ</td>\n",
       "    </tr>\n",
       "    <tr>\n",
       "      <td>seadis</td>\n",
       "      <td>SEADIS</td>\n",
       "      <td>SIDAES</td>\n",
       "    </tr>\n",
       "    <tr>\n",
       "      <td>ta</td>\n",
       "      <td>TA</td>\n",
       "      <td>AT</td>\n",
       "    </tr>\n",
       "    <tr>\n",
       "      <td>siis</td>\n",
       "      <td>SIIS</td>\n",
       "      <td>SIIS</td>\n",
       "    </tr>\n",
       "    <tr>\n",
       "      <td>pinki</td>\n",
       "      <td>PINKI</td>\n",
       "      <td>IKNIP</td>\n",
       "    </tr>\n",
       "    <tr>\n",
       "      <td>ühe</td>\n",
       "      <td>ÜHE</td>\n",
       "      <td>EHÜ</td>\n",
       "    </tr>\n",
       "    <tr>\n",
       "      <td>pikkade</td>\n",
       "      <td>PIKKADE</td>\n",
       "      <td>EDAKKIP</td>\n",
       "    </tr>\n",
       "    <tr>\n",
       "      <td>juustega</td>\n",
       "      <td>JUUSTEGA</td>\n",
       "      <td>AGETSUUJ</td>\n",
       "    </tr>\n",
       "    <tr>\n",
       "      <td>poisi</td>\n",
       "      <td>POISI</td>\n",
       "      <td>ISIOP</td>\n",
       "    </tr>\n",
       "    <tr>\n",
       "      <td>kõrvale</td>\n",
       "      <td>KÕRVALE</td>\n",
       "      <td>ELAVRÕK</td>\n",
       "    </tr>\n",
       "    <tr>\n",
       "      <td>istuma</td>\n",
       "      <td>ISTUMA</td>\n",
       "      <td>AMUTSI</td>\n",
       "    </tr>\n",
       "    <tr>\n",
       "      <td>.</td>\n",
       "      <td>.</td>\n",
       "      <td>.</td>\n",
       "    </tr>\n",
       "  </tbody>\n",
       "</table>"
      ],
      "text/plain": [
       "Layer(name='uppercase', attributes=('upper', 'reverse'), spans=SL[Span('Kui', [{'upper': 'KUI', 'reverse': 'IUK'}]),\n",
       "Span('Arno', [{'upper': 'ARNO', 'reverse': 'ONRA'}]),\n",
       "Span('isaga', [{'upper': 'ISAGA', 'reverse': 'AGASI'}]),\n",
       "Span('koolimajja', [{'upper': 'KOOLIMAJJA', 'reverse': 'AJJAMILOOK'}]),\n",
       "Span('jõudis', [{'upper': 'JÕUDIS', 'reverse': 'SIDUÕJ'}]),\n",
       "Span(',', [{'upper': ',', 'reverse': ','}]),\n",
       "Span('olid', [{'upper': 'OLID', 'reverse': 'DILO'}]),\n",
       "Span('tunnid', [{'upper': 'TUNNID', 'reverse': 'DINNUT'}]),\n",
       "Span('juba', [{'upper': 'JUBA', 'reverse': 'ABUJ'}]),\n",
       "Span('alanud', [{'upper': 'ALANUD', 'reverse': 'DUNALA'}]),\n",
       "Span('.', [{'upper': '.', 'reverse': '.'}]),\n",
       "Span('Kooliõpetaja', [{'upper': 'KOOLIÕPETAJA', 'reverse': 'AJATEPÕILOOK'}]),\n",
       "Span('kutsus', [{'upper': 'KUTSUS', 'reverse': 'SUSTUK'}]),\n",
       "Span('mõlemad', [{'upper': 'MÕLEMAD', 'reverse': 'DAMELÕM'}]),\n",
       "Span('oma', [{'upper': 'OMA', 'reverse': 'AMO'}]),\n",
       "Span('tuppa', [{'upper': 'TUPPA', 'reverse': 'APPUT'}]),\n",
       "Span(',', [{'upper': ',', 'reverse': ','}]),\n",
       "Span('kõneles', [{'upper': 'KÕNELES', 'reverse': 'SELENÕK'}]),\n",
       "Span('nendega', [{'upper': 'NENDEGA', 'reverse': 'AGEDNEN'}]),\n",
       "Span('natuke', [{'upper': 'NATUKE', 'reverse': 'EKUTAN'}]),\n",
       "Span('aega', [{'upper': 'AEGA', 'reverse': 'AGEA'}]),\n",
       "Span(',', [{'upper': ',', 'reverse': ','}]),\n",
       "Span('käskis', [{'upper': 'KÄSKIS', 'reverse': 'SIKSÄK'}]),\n",
       "Span('Arnol', [{'upper': 'ARNOL', 'reverse': 'LONRA'}]),\n",
       "Span('olla', [{'upper': 'OLLA', 'reverse': 'ALLO'}]),\n",
       "Span('hoolas', [{'upper': 'HOOLAS', 'reverse': 'SALOOH'}]),\n",
       "Span('ja', [{'upper': 'JA', 'reverse': 'AJ'}]),\n",
       "Span('korralik', [{'upper': 'KORRALIK', 'reverse': 'KILARROK'}]),\n",
       "Span('ja', [{'upper': 'JA', 'reverse': 'AJ'}]),\n",
       "Span('seadis', [{'upper': 'SEADIS', 'reverse': 'SIDAES'}]),\n",
       "Span('ta', [{'upper': 'TA', 'reverse': 'AT'}]),\n",
       "Span('siis', [{'upper': 'SIIS', 'reverse': 'SIIS'}]),\n",
       "Span('pinki', [{'upper': 'PINKI', 'reverse': 'IKNIP'}]),\n",
       "Span('ühe', [{'upper': 'ÜHE', 'reverse': 'EHÜ'}]),\n",
       "Span('pikkade', [{'upper': 'PIKKADE', 'reverse': 'EDAKKIP'}]),\n",
       "Span('juustega', [{'upper': 'JUUSTEGA', 'reverse': 'AGETSUUJ'}]),\n",
       "Span('poisi', [{'upper': 'POISI', 'reverse': 'ISIOP'}]),\n",
       "Span('kõrvale', [{'upper': 'KÕRVALE', 'reverse': 'ELAVRÕK'}]),\n",
       "Span('istuma', [{'upper': 'ISTUMA', 'reverse': 'AMUTSI'}]),\n",
       "Span('.', [{'upper': '.', 'reverse': '.'}])])"
      ]
     },
     "execution_count": 11,
     "metadata": {},
     "output_type": "execute_result"
    }
   ],
   "source": [
    "# Example: populating the new layer with elements\n",
    "for word in t.words:\n",
    "    dep.add_annotation(word, upper=word.text.upper(), reverse=word.text.upper()[::-1])\n",
    "\n",
    "dep"
   ]
  },
  {
   "cell_type": "code",
   "execution_count": 12,
   "metadata": {},
   "outputs": [
    {
     "data": {
      "text/plain": [
       "''"
      ]
     },
     "execution_count": 12,
     "metadata": {},
     "output_type": "execute_result"
    }
   ],
   "source": [
    "# Example: accessing the annotations (attribute values) through the layer name ('uppercase')\n",
    "# returns an AttributeList - immutable list of attribute values\n",
    "t.uppercase.upper\n",
    "t.uppercase.reverse\n",
    ";"
   ]
  },
  {
   "cell_type": "code",
   "execution_count": 13,
   "metadata": {},
   "outputs": [
    {
     "name": "stdout",
     "output_type": "stream",
     "text": [
      "KUI IUK\n",
      "ARNO ONRA\n",
      "ISAGA AGASI\n",
      "KOOLIMAJJA AJJAMILOOK\n",
      "JÕUDIS SIDUÕJ\n",
      ", ,\n",
      "OLID DILO\n",
      "TUNNID DINNUT\n",
      "JUBA ABUJ\n",
      "ALANUD DUNALA\n",
      ". .\n"
     ]
    }
   ],
   "source": [
    "# Example: accessing new annotations (attribute values) through the parent layer ('words')\n",
    "for word in t.words[:11]:\n",
    "    print(word.uppercase.upper, word.uppercase.reverse)"
   ]
  },
  {
   "cell_type": "code",
   "execution_count": 14,
   "metadata": {},
   "outputs": [
    {
     "data": {
      "text/html": [
       "<h4>Layer</h4>\n",
       "\n",
       "\n",
       "<table border=\"1\" class=\"dataframe\">\n",
       "  <thead>\n",
       "    <tr style=\"text-align: right;\">\n",
       "      <th>layer name</th>\n",
       "      <th>attributes</th>\n",
       "      <th>parent</th>\n",
       "      <th>enveloping</th>\n",
       "      <th>ambiguous</th>\n",
       "      <th>span count</th>\n",
       "    </tr>\n",
       "  </thead>\n",
       "  <tbody>\n",
       "    <tr>\n",
       "      <td>uppercase</td>\n",
       "      <td>upper, reverse</td>\n",
       "      <td>words</td>\n",
       "      <td>None</td>\n",
       "      <td>False</td>\n",
       "      <td>11</td>\n",
       "    </tr>\n",
       "  </tbody>\n",
       "</table>\n",
       "<table border=\"1\" class=\"dataframe\">\n",
       "  <thead>\n",
       "    <tr style=\"text-align: right;\">\n",
       "      <th>text</th>\n",
       "      <th>upper</th>\n",
       "      <th>reverse</th>\n",
       "    </tr>\n",
       "  </thead>\n",
       "  <tbody>\n",
       "    <tr>\n",
       "      <td>Kui</td>\n",
       "      <td>KUI</td>\n",
       "      <td>IUK</td>\n",
       "    </tr>\n",
       "    <tr>\n",
       "      <td>Arno</td>\n",
       "      <td>ARNO</td>\n",
       "      <td>ONRA</td>\n",
       "    </tr>\n",
       "    <tr>\n",
       "      <td>isaga</td>\n",
       "      <td>ISAGA</td>\n",
       "      <td>AGASI</td>\n",
       "    </tr>\n",
       "    <tr>\n",
       "      <td>koolimajja</td>\n",
       "      <td>KOOLIMAJJA</td>\n",
       "      <td>AJJAMILOOK</td>\n",
       "    </tr>\n",
       "    <tr>\n",
       "      <td>jõudis</td>\n",
       "      <td>JÕUDIS</td>\n",
       "      <td>SIDUÕJ</td>\n",
       "    </tr>\n",
       "    <tr>\n",
       "      <td>,</td>\n",
       "      <td>,</td>\n",
       "      <td>,</td>\n",
       "    </tr>\n",
       "    <tr>\n",
       "      <td>olid</td>\n",
       "      <td>OLID</td>\n",
       "      <td>DILO</td>\n",
       "    </tr>\n",
       "    <tr>\n",
       "      <td>tunnid</td>\n",
       "      <td>TUNNID</td>\n",
       "      <td>DINNUT</td>\n",
       "    </tr>\n",
       "    <tr>\n",
       "      <td>juba</td>\n",
       "      <td>JUBA</td>\n",
       "      <td>ABUJ</td>\n",
       "    </tr>\n",
       "    <tr>\n",
       "      <td>alanud</td>\n",
       "      <td>ALANUD</td>\n",
       "      <td>DUNALA</td>\n",
       "    </tr>\n",
       "    <tr>\n",
       "      <td>.</td>\n",
       "      <td>.</td>\n",
       "      <td>.</td>\n",
       "    </tr>\n",
       "  </tbody>\n",
       "</table>"
      ],
      "text/plain": [
       "Layer(name='uppercase', attributes=('upper', 'reverse'), spans=SL[Span('Kui', [{'upper': 'KUI', 'reverse': 'IUK'}]),\n",
       "Span('Arno', [{'upper': 'ARNO', 'reverse': 'ONRA'}]),\n",
       "Span('isaga', [{'upper': 'ISAGA', 'reverse': 'AGASI'}]),\n",
       "Span('koolimajja', [{'upper': 'KOOLIMAJJA', 'reverse': 'AJJAMILOOK'}]),\n",
       "Span('jõudis', [{'upper': 'JÕUDIS', 'reverse': 'SIDUÕJ'}]),\n",
       "Span(',', [{'upper': ',', 'reverse': ','}]),\n",
       "Span('olid', [{'upper': 'OLID', 'reverse': 'DILO'}]),\n",
       "Span('tunnid', [{'upper': 'TUNNID', 'reverse': 'DINNUT'}]),\n",
       "Span('juba', [{'upper': 'JUBA', 'reverse': 'ABUJ'}]),\n",
       "Span('alanud', [{'upper': 'ALANUD', 'reverse': 'DUNALA'}]),\n",
       "Span('.', [{'upper': '.', 'reverse': '.'}])])"
      ]
     },
     "execution_count": 14,
     "metadata": {},
     "output_type": "execute_result"
    }
   ],
   "source": [
    "# Example: getting a subset of new annotations (SpanList of Spans)\n",
    "t.uppercase[:11]"
   ]
  },
  {
   "cell_type": "markdown",
   "metadata": {},
   "source": [
    "### Tools for linguistic annotations"
   ]
  },
  {
   "cell_type": "markdown",
   "metadata": {},
   "source": [
    "Linguistic annotations build upon one another. So, before automatically creating an annotation layer, we must make sure that all the dependency layers have already been created. Therefore, EstNLTK has a special class Resolver that automatically resolves the dependencies between annotation layers.\n",
    "\n",
    "You can use DEFAULT_RESOLVER to get an overview about the tools applied by default and their corresponding configurations:"
   ]
  },
  {
   "cell_type": "code",
   "execution_count": 15,
   "metadata": {
    "scrolled": false
   },
   "outputs": [
    {
     "data": {
      "text/html": [
       "<table border=\"1\" class=\"dataframe\">\n",
       "  <thead>\n",
       "    <tr style=\"text-align: right;\">\n",
       "      <th>name</th>\n",
       "      <th>layer</th>\n",
       "      <th>attributes</th>\n",
       "      <th>depends_on</th>\n",
       "      <th>configuration</th>\n",
       "    </tr>\n",
       "  </thead>\n",
       "  <tbody>\n",
       "    <tr>\n",
       "      <td>TokensTagger</td>\n",
       "      <td>tokens</td>\n",
       "      <td>()</td>\n",
       "      <td>()</td>\n",
       "      <td>[apply_punct_postfixes=True]</td>\n",
       "    </tr>\n",
       "    <tr>\n",
       "      <td>CompoundTokenTagger</td>\n",
       "      <td>compound_tokens</td>\n",
       "      <td>(type, normalized)</td>\n",
       "      <td>(tokens,)</td>\n",
       "      <td>[custom_abbreviations=(), ignored_words=set(), tag_numbers=True, tag_units=True, tag_email_and_www=True, tag_emoticons=True, tag_xml=True, tag_initials=True, tag_abbreviations=True, tag_case_endings=True, tag_hyphenations=True, use_custom_abbreviations=False, do_not_join_on_strings=('\\n\\n',)]</td>\n",
       "    </tr>\n",
       "    <tr>\n",
       "      <td>WordTagger</td>\n",
       "      <td>words</td>\n",
       "      <td>(normalized_form,)</td>\n",
       "      <td>(tokens, compound_tokens)</td>\n",
       "      <td>[make_ambiguous=True]</td>\n",
       "    </tr>\n",
       "    <tr>\n",
       "      <td>SentenceTokenizer</td>\n",
       "      <td>sentences</td>\n",
       "      <td>()</td>\n",
       "      <td>(words, compound_tokens)</td>\n",
       "      <td>[base_sentence_tokenizer=&lt;nltk.tokenize.punkt.PunktSentenceTokenizer object at 0x000001B02A869B70&gt;, fix_paragraph_endings=True, fix_compound_tokens=True, fix_numeric=True, fix_parentheses=True, fix_double_quotes=True, fix_inner_title_punct=True, fix_repeated_ending_punct=True, fix_double_quotes_based_on_counts=False, use_emoticons_as_endings=True, record_fix_types=False]</td>\n",
       "    </tr>\n",
       "    <tr>\n",
       "      <td>ParagraphTokenizer</td>\n",
       "      <td>paragraphs</td>\n",
       "      <td>()</td>\n",
       "      <td>(sentences,)</td>\n",
       "      <td>[regex=\\s*\\n\\n, paragraph_tokenizer=RegexpTokenizer(pattern='\\\\s*\\n\\n', gaps=True, discard_empty=True, flags=56)]</td>\n",
       "    </tr>\n",
       "    <tr>\n",
       "      <td>VabamorfTagger</td>\n",
       "      <td>morph_analysis</td>\n",
       "      <td>(normalized_text, lemma, root, root_tokens, ending, clitic, form, partofspeech)</td>\n",
       "      <td>(words, sentences, compound_tokens)</td>\n",
       "      <td>[guess=True, propername=True, disambiguate=True, compound=True, phonetic=False, postanalysis_tagger=PostMorphAnalysisTagger(('compound_tokens', 'morph_analysis')-&gt;morph_analysis)]</td>\n",
       "    </tr>\n",
       "    <tr>\n",
       "      <td>MorphExtendedTagger</td>\n",
       "      <td>morph_extended</td>\n",
       "      <td>(normalized_text, lemma, root, root_tokens, ending, clitic, form, partofspeech, punctuation_type, pronoun_type, letter_case, fin, verb_extension_suffix, subcat)</td>\n",
       "      <td>(morph_analysis,)</td>\n",
       "      <td>[punctuation_type_retagger=PunctuationTypeRetagger(('morph_extended',)-&gt;morph_extended), morph_to_syntax_morph_retagger=MorphToSyntaxMorphRetagger(('morph_analysis',)-&gt;morph_extended), pronoun_type_retagger=PronounTypeRetagger(('morph_extended',)-&gt;morph_extended), letter_case_retagger=LetterCaseRetagger(('morph_extended',)-&gt;morph_extended), remove_adposition_analyses_retagger=RemoveAdpositionAnalysesRetagger(('morph_extended',)-&gt;morph_extended), finite_form_retagger=FiniteFormRetagger(('morph_extended',)-&gt;morph_extended), verb_extension_suffix_retagger=VerbExtensionSuffixRetagger(('morph_extended',)-&gt;morph_extended), subcat_retagger=SubcatRetagger(('morph_extended',)-&gt;morph_extended)]</td>\n",
       "    </tr>\n",
       "    <tr>\n",
       "      <td>ClauseSegmenter</td>\n",
       "      <td>clauses</td>\n",
       "      <td>(clause_type,)</td>\n",
       "      <td>(words, sentences, morph_analysis)</td>\n",
       "      <td>[ignore_missing_commas=False, use_normalized_word_form=True]</td>\n",
       "    </tr>\n",
       "  </tbody>\n",
       "</table>"
      ],
      "text/plain": [
       "<estnltk.resolve_layer_dag.Taggers at 0x1b025e268d0>"
      ]
     },
     "execution_count": 15,
     "metadata": {},
     "output_type": "execute_result"
    }
   ],
   "source": [
    "# NBVAL_IGNORE_OUTPUT\n",
    "from estnltk.resolve_layer_dag import DEFAULT_RESOLVER\n",
    "DEFAULT_RESOLVER.taggers"
   ]
  },
  {
   "cell_type": "markdown",
   "metadata": {},
   "source": [
    "If you want to modify the pipeline, you can use the method `make_resolver()` to create a Resolver identical to the default one, and then you can use the method `update()` to replace some existing tagger with a new one:"
   ]
  },
  {
   "cell_type": "code",
   "execution_count": 16,
   "metadata": {},
   "outputs": [
    {
     "data": {
      "text/plain": [
       "['No', 'mida', 'teksti', ':)', 'Äge', '!']"
      ]
     },
     "execution_count": 16,
     "metadata": {},
     "output_type": "execute_result"
    }
   ],
   "source": [
    "# Example: Modifying the pipeline -- replacing an existing tagger\n",
    "from estnltk.resolve_layer_dag import make_resolver\n",
    "\n",
    "my_resolver = make_resolver()  # Create a copy of the default pipeline\n",
    "\n",
    "# Create a new sentence tokenizer that does not split sentences by emoticons\n",
    "from estnltk.taggers import SentenceTokenizer\n",
    "new_sentence_tokenizer = SentenceTokenizer(use_emoticons_as_endings=False)\n",
    "\n",
    "# Replace the sentence tokenizer on the pipeline with the new one\n",
    "my_resolver.update( new_sentence_tokenizer )\n",
    "\n",
    "# Test out the new tokenizer\n",
    "t2 = Text('No mida teksti :) Äge!')\n",
    "t2.analyse('segmentation', resolver=my_resolver)  # Use new resolver instead of the default one\n",
    "t2.sentences.text"
   ]
  }
 ],
 "metadata": {
  "kernelspec": {
   "display_name": "Python 3",
   "language": "python",
   "name": "python3"
  },
  "language_info": {
   "codemirror_mode": {
    "name": "ipython",
    "version": 3
   },
   "file_extension": ".py",
   "mimetype": "text/x-python",
   "name": "python",
   "nbconvert_exporter": "python",
   "pygments_lexer": "ipython3",
   "version": "3.5.6"
  }
 },
 "nbformat": 4,
 "nbformat_minor": 1
}
